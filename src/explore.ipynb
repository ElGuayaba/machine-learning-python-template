{
    "cells": [
        {
            "cell_type": "markdown",
            "metadata": {},
            "source": [
                "# Explore here"
            ]
        },
        {
            "cell_type": "markdown",
            "metadata": {},
            "source": [
                "### 1. Problem Statement and Data Collection\n",
                "\n",
                "#### 1.1 The problem\n",
                "We'll be analysing a dataset containing Airbnb's listings for the city of New York during 2019 in order to understand if we can get any useful information from it.\n"
            ]
        },
        {
            "cell_type": "code",
            "execution_count": null,
            "metadata": {},
            "outputs": [],
            "source": [
                "# 1.2 Data Collection\n",
                "\n",
                "import pandas as pd\n",
                "\n",
                "# import dataset\n",
                "total_data = pd.read_csv(\"localhost\")\n",
                "\n",
                "total_data.head()"
            ]
        },
        {
            "cell_type": "markdown",
            "metadata": {},
            "source": [
                "### 2. Exploration and data cleaning\n",
                "\n",
                "We'll try to understand the data and its main features."
            ]
        },
        {
            "cell_type": "code",
            "execution_count": null,
            "metadata": {},
            "outputs": [],
            "source": [
                "# Obtain the dimensions of the dataset\n",
                "total_data.shape"
            ]
        },
        {
            "cell_type": "code",
            "execution_count": null,
            "metadata": {},
            "outputs": [],
            "source": [
                "# Obtain information about data types and non-null values\n",
                "total_data.info()"
            ]
        },
        {
            "cell_type": "markdown",
            "metadata": {},
            "source": [
                "First deductions"
            ]
        },
        {
            "cell_type": "markdown",
            "metadata": {},
            "source": [
                "Let's do a quick search of duplicates."
            ]
        },
        {
            "cell_type": "code",
            "execution_count": null,
            "metadata": {},
            "outputs": [],
            "source": [
                "total_data.duplicated().sum()"
            ]
        },
        {
            "cell_type": "markdown",
            "metadata": {},
            "source": [
                "Deductions"
            ]
        },
        {
            "cell_type": "code",
            "execution_count": null,
            "metadata": {},
            "outputs": [],
            "source": [
                "total_data.drop(['id'], axis=1, inplace=True)\n",
                "total_data.info()\n",
                "total_data.head()"
            ]
        },
        {
            "cell_type": "markdown",
            "metadata": {},
            "source": [
                "Now that our dataset seems to be neat and clean. Let's move on to the next part:\n",
                "\n",
                "### 3. Analysis of univariate variables\n",
                "#### 3.1 Analysis on categorical variables\n",
                "Let's plot the categorical variables in our dataset and see what they can show us."
            ]
        },
        {
            "cell_type": "code",
            "execution_count": null,
            "metadata": {},
            "outputs": [],
            "source": [
                "import matplotlib.pyplot as plt \n",
                "import seaborn as sns\n",
                "\n",
                "# group by neighborhoods\n",
                "abnb_data_neighborhoods = total_data.groupby(['neighbourhood'])['name'].count().reset_index(name='count').sort_values(['count'], ascending=False)\n",
                "# reindex\n",
                "abnb_data_neighborhoods = abnb_data_neighborhoods.reset_index(drop=True)\n",
                "# get top quarter\n",
                "abnb_data_neighborhoods = abnb_data_neighborhoods[0:len(abnb_data_neighborhoods)//4]\n",
                "# truncate labels\n",
                "abnb_data_neighborhoods['neighbourhood'] = abnb_data_neighborhoods['neighbourhood'].apply(lambda x: x[:8])\n",
                "\n",
                "fig, axs = plt.subplots(3, figsize = (10, 7))\n",
                "\n",
                "# Create a multiple histogram\n",
                "sns.histplot(ax = axs[0], data = total_data, x = \"neighbourhood_group\").set(xlabel = 'Neighborhood Group')\n",
                "sns.barplot(ax = axs[1],data=abnb_data_neighborhoods, x = \"neighbourhood\", y = abnb_data_neighborhoods['count']).set(xlabel = 'Neighborhood')\n",
                "axs[1].tick_params(labelrotation=45, labelsize=8)\n",
                "sns.histplot(ax = axs[2], data = total_data, x = \"room_type\").set(xlabel = 'Room Type')\n",
                "\n",
                "# Adjust the layout\n",
                "plt.tight_layout()\n",
                "\n",
                "# Show the plot\n",
                "plt.show()"
            ]
        },
        {
            "cell_type": "markdown",
            "metadata": {},
            "source": [
                "Deductions"
            ]
        },
        {
            "cell_type": "markdown",
            "metadata": {},
            "source": [
                "#### 3.2 Analysis on numerical variables\n",
                "Now let's plot the numerical variables. For this part lets focus on the columns that have a numeric data type in the dataframe."
            ]
        },
        {
            "cell_type": "code",
            "execution_count": null,
            "metadata": {},
            "outputs": [],
            "source": [
                "#abnb_data.info()\n",
                "\n",
                "fig, axs = plt.subplots(4, 4, figsize = (15, 10))\n",
                "fig.delaxes(axs[2, 3])\n",
                "fig.delaxes(axs[3, 3])\n",
                "\n",
                "# Creating a multiple figure with histograms and box plots\n",
                "sns.histplot(ax = axs[0, 0], data = total_data, x = \"latitude\").set(xlabel = None)\n",
                "sns.boxplot(ax = axs[1, 0], data = total_data, x = \"latitude\").set_box_aspect(0.2)\n",
                "\n",
                "sns.histplot(ax = axs[0, 1], data = total_data, x = \"longitude\").set(xlabel = None, ylabel = None)\n",
                "sns.boxplot(ax = axs[1, 1], data = total_data, x = \"longitude\").set_box_aspect(0.2)\n",
                "\n",
                "sns.histplot(ax = axs[0, 2], data = total_data, x = \"price\").set(xlabel = None, ylabel = None)\n",
                "sns.boxplot(ax = axs[1, 2], data = total_data, x = \"price\").set_box_aspect(0.2)\n",
                "\n",
                "sns.histplot(ax = axs[0, 3], data = total_data, x = \"minimum_nights\").set(xlabel = None, ylabel = None)\n",
                "sns.boxplot(ax = axs[1, 3], data = total_data, x = \"minimum_nights\").set_box_aspect(0.2)\n",
                "\n",
                "sns.histplot(ax = axs[2, 0], data = total_data, x = \"number_of_reviews\").set(xlabel = None, ylabel = None)\n",
                "sns.boxplot(ax = axs[3, 0], data = total_data, x = \"number_of_reviews\").set_box_aspect(0.2)\n",
                "\n",
                "sns.histplot(ax = axs[2, 1], data = total_data, x = \"calculated_host_listings_count\").set(xlabel = None, ylabel = None)\n",
                "sns.boxplot(ax = axs[3, 1], data = total_data, x = \"calculated_host_listings_count\").set_box_aspect(0.2)\n",
                "\n",
                "sns.histplot(ax = axs[2, 2], data = total_data, x = \"availability_365\").set(xlabel = None, ylabel = None)\n",
                "sns.boxplot(ax = axs[3, 2], data = total_data, x = \"availability_365\").set_box_aspect(0.2)\n",
                "\n",
                "# Adjust the layout\n",
                "plt.tight_layout()\n",
                "\n",
                "# Show the plot\n",
                "plt.show()"
            ]
        },
        {
            "cell_type": "markdown",
            "metadata": {},
            "source": [
                "Deductions"
            ]
        },
        {
            "cell_type": "markdown",
            "metadata": {},
            "source": [
                "### 4. Analysis of multivariate variables\n",
                "Now let's see how the variables relate to each other. \n",
                "\n",
                "#### 4.1 Numerical-Numerical\n",
                "Let's start with the numerical variables."
            ]
        },
        {
            "cell_type": "code",
            "execution_count": null,
            "metadata": {},
            "outputs": [],
            "source": [
                "fig, axis = plt.subplots(2, 2, figsize = (10, 7))\n",
                "\n",
                "# Create a multiple scatter diagram\n",
                "sns.regplot(ax = axis[0, 0], data = total_data, x = \"latitude\", y = \"longitude\")\n",
                "sns.heatmap(total_data[[\"latitude\", \"longitude\"]].corr(), annot = True, fmt = \".2f\", ax = axis[1, 0], cbar = False)\n",
                "\n",
                "sns.regplot(ax = axis[0, 1], data = total_data, x = \"availability_365\", y = \"price\")\n",
                "sns.heatmap(total_data[[\"availability_365\", \"price\"]].corr(), annot = True, fmt = \".2f\", ax = axis[1, 1], cbar = False)\n",
                "\n",
                "# Adjust the layout\n",
                "plt.tight_layout()\n",
                "\n",
                "# Show the plot\n",
                "plt.show()"
            ]
        },
        {
            "cell_type": "markdown",
            "metadata": {},
            "source": [
                "Deductions"
            ]
        },
        {
            "cell_type": "code",
            "execution_count": null,
            "metadata": {},
            "outputs": [],
            "source": [
                "fig, axis = plt.subplots(2, 2, figsize = (10, 7))\n",
                "\n",
                "# Create a multiple scatter diagram\n",
                "sns.regplot(ax = axis[0, 0], data = total_data, x = \"number_of_reviews\", y = \"price\")\n",
                "sns.heatmap(total_data[[\"number_of_reviews\", \"price\"]].corr(), annot = True, fmt = \".2f\", ax = axis[1, 0], cbar = False)\n",
                "\n",
                "sns.regplot(ax = axis[0, 1], data = total_data, x = \"calculated_host_listings_count\", y = \"price\")\n",
                "sns.heatmap(total_data[[\"calculated_host_listings_count\", \"price\"]].corr(), annot = True, fmt = \".2f\", ax = axis[1, 1], cbar = False)\n",
                "\n",
                "# Adjust the layout\n",
                "plt.tight_layout()\n",
                "\n",
                "# Show the plot\n",
                "plt.show()"
            ]
        },
        {
            "cell_type": "markdown",
            "metadata": {},
            "source": [
                "Deductions"
            ]
        },
        {
            "cell_type": "markdown",
            "metadata": {},
            "source": [
                "#### 4.2 Categorical-categorical\n",
                "Let's have a look on categorical variables and see what we can find out."
            ]
        },
        {
            "cell_type": "code",
            "execution_count": null,
            "metadata": {},
            "outputs": [],
            "source": [
                "abnb_data_avg_price1 = total_data.groupby(['neighbourhood_group'])['room_type'].count().reset_index(name='avg_price')\n",
                "\n",
                "sns.countplot(data = total_data, x = \"room_type\", hue = \"neighbourhood_group\")\n",
                "\n",
                "plt.tight_layout()\n",
                "\n",
                "plt.show()"
            ]
        },
        {
            "cell_type": "markdown",
            "metadata": {},
            "source": [
                "Deductions"
            ]
        },
        {
            "cell_type": "markdown",
            "metadata": {},
            "source": [
                "#### 4.3 Categorical-numerical\n",
                "Let's see how categorical variables relate with the numerical ones."
            ]
        },
        {
            "cell_type": "code",
            "execution_count": null,
            "metadata": {},
            "outputs": [],
            "source": [
                "abnb_data_avg_price1 = total_data.groupby(['neighbourhood_group'])['price'].mean().reset_index(name='avg_price')\n",
                "abnb_data_avg_price2 = total_data.groupby(['room_type'])['price'].mean().reset_index(name='avg_price')\n",
                "\n",
                "fig, axis = plt.subplots(2, figsize = (15, 7))\n",
                "\n",
                "sns.barplot(ax = axis[0], data = abnb_data_avg_price1, x = \"neighbourhood_group\", y = abnb_data_avg_price1[\"avg_price\"])\n",
                "sns.barplot(ax = axis[1], data = abnb_data_avg_price2, x = \"room_type\", y = abnb_data_avg_price2[\"avg_price\"]).set(ylabel = None)\n",
                "\n",
                "plt.tight_layout()\n",
                "\n",
                "plt.show()"
            ]
        },
        {
            "cell_type": "markdown",
            "metadata": {},
            "source": [
                "Deductions"
            ]
        },
        {
            "cell_type": "markdown",
            "metadata": {},
            "source": [
                "#### 4.4 Correlation analysis\n",
                "\n",
                "Let's take a look at how each variable correlates wih each other whenever it makes sense:"
            ]
        },
        {
            "cell_type": "code",
            "execution_count": null,
            "metadata": {},
            "outputs": [],
            "source": [
                "abnb_data_factorised = total_data\n",
                "abnb_data_factorised[\"neighbourhood\"] = pd.factorize(total_data[\"neighbourhood\"])[0]\n",
                "abnb_data_factorised[\"neighbourhood_group\"] = pd.factorize(total_data[\"neighbourhood_group\"])[0]\n",
                "abnb_data_factorised[\"room_type\"] = pd.factorize(total_data[\"room_type\"])[0]\n",
                "\n",
                "fig, axis = plt.subplots(figsize = (10, 6))\n",
                "\n",
                "sns.heatmap(abnb_data_factorised[[\n",
                "    \"neighbourhood_group\", \n",
                "    \"neighbourhood\", \n",
                "    \"latitude\", \n",
                "    \"longitude\", \n",
                "    \"room_type\",\n",
                "    \"price\"\n",
                "    ]].corr(), annot = True, fmt = \".2f\")\n",
                "\n",
                "plt.tight_layout()\n",
                "\n",
                "\n",
                "plt.show()"
            ]
        },
        {
            "cell_type": "markdown",
            "metadata": {},
            "source": [
                "Deductions\n",
                "\n",
                "Now, let's do the same with the other variables:"
            ]
        },
        {
            "cell_type": "code",
            "execution_count": null,
            "metadata": {},
            "outputs": [],
            "source": [
                "abnb_data_factorised[\"name\"] = pd.factorize(total_data[\"name\"])[0]\n",
                "abnb_data_factorised[\"host_name\"] = pd.factorize(total_data[\"host_name\"])[0]\n",
                "abnb_data_factorised[\"room_type\"] = pd.factorize(total_data[\"room_type\"])[0]\n",
                "abnb_data_factorised[\"last_review\"] = pd.factorize(total_data[\"last_review\"])[0]\n",
                "\n",
                "fig, axis = plt.subplots(figsize = (10, 6))\n",
                "\n",
                "sns.heatmap(abnb_data_factorised[[\n",
                "    \"name\", \n",
                "    \"host_name\",  \n",
                "    \"room_type\",\n",
                "    \"price\",\n",
                "    \"price\",\n",
                "    \"number_of_reviews\",\n",
                "    \"last_review\",\n",
                "    \"reviews_per_month\",\n",
                "    \"calculated_host_listings_count\",\n",
                "    \"availability_365\"\n",
                "    ]].corr(), annot = True, fmt = \".2f\")\n",
                "\n",
                "plt.tight_layout()"
            ]
        },
        {
            "cell_type": "markdown",
            "metadata": {},
            "source": [
                "Deductions\n",
                "\n",
                "### 5. Feature engineering\n",
                "#### 5.1 Missing value analysis."
            ]
        },
        {
            "cell_type": "markdown",
            "metadata": {},
            "source": [
                "Let's analyse the null values and see if we can reduce them:"
            ]
        },
        {
            "cell_type": "code",
            "execution_count": null,
            "metadata": {},
            "outputs": [],
            "source": [
                "null_values = abnb_data_factorised[total_data.isna().any(axis=1)]\n",
                "print(null_values.shape)\n",
                "null_values.head()"
            ]
        },
        {
            "cell_type": "markdown",
            "metadata": {},
            "source": [
                "Deductions\n",
                "\n",
                "Find sparse nulls"
            ]
        },
        {
            "cell_type": "code",
            "execution_count": null,
            "metadata": {},
            "outputs": [],
            "source": [
                "data_without_reviews = abnb_data_factorised.drop(['last_review', 'reviews_per_month'], axis=1, inplace=False)\n",
                "null_values = data_without_reviews[data_without_reviews.isna().any(axis=1)]\n",
                "print(null_values.shape)\n",
                "null_values.head()"
            ]
        },
        {
            "cell_type": "markdown",
            "metadata": {},
            "source": [
                "Deductions\n",
                "\n",
                "Drop sparse nulls"
            ]
        },
        {
            "cell_type": "code",
            "execution_count": null,
            "metadata": {},
            "outputs": [],
            "source": [
                "abnb_data_factorised.drop(null_values.index, inplace=True)\n",
                "abnb_data_factorised.shape"
            ]
        },
        {
            "cell_type": "markdown",
            "metadata": {},
            "source": [
                "Deductions\n",
                "\n",
                "Drop null columns"
            ]
        },
        {
            "cell_type": "code",
            "execution_count": null,
            "metadata": {},
            "outputs": [],
            "source": [
                "abnb_data_factorised.drop(['last_review', 'reviews_per_month'], axis=1, inplace=True)\n",
                "abnb_data_factorised.info()"
            ]
        },
        {
            "cell_type": "markdown",
            "metadata": {},
            "source": [
                "#### 5.2 Feature engineering\n",
                "Rather than adding new features first, let's start by getting rid of those that don't seem to add any value as we saw in step 4."
            ]
        },
        {
            "cell_type": "code",
            "execution_count": null,
            "metadata": {},
            "outputs": [],
            "source": [
                "abnb_data_factorised.drop(['name', 'host_name', 'latitude', 'longitude'], axis=1, inplace=True)\n",
                "abnb_data_factorised.info()"
            ]
        },
        {
            "cell_type": "markdown",
            "metadata": {},
            "source": [
                "#### 5.3 Outlier analysis\n",
                "Now that we have a tidier dataset, we can proceed to study the outliers."
            ]
        },
        {
            "cell_type": "code",
            "execution_count": null,
            "metadata": {},
            "outputs": [],
            "source": [
                "abnb_data_factorised.head()\n",
                "abnb_data_factorised.describe()"
            ]
        },
        {
            "cell_type": "markdown",
            "metadata": {},
            "source": [
                "Deductions"
            ]
        },
        {
            "cell_type": "code",
            "execution_count": null,
            "metadata": {},
            "outputs": [],
            "source": [
                "abnb_data_factorised[abnb_data_factorised['price'] == 0]['price'].count()"
            ]
        },
        {
            "cell_type": "markdown",
            "metadata": {},
            "source": [
                "Since they're very few we can remove them and measure again."
            ]
        },
        {
            "cell_type": "code",
            "execution_count": null,
            "metadata": {},
            "outputs": [],
            "source": [
                "abnb_data_factorised = abnb_data_factorised[abnb_data_factorised['price'] != 0]\n",
                "abnb_data_factorised.describe()"
            ]
        },
        {
            "cell_type": "markdown",
            "metadata": {},
            "source": [
                "Deductions\n",
                "\n",
                "Let's represent it in a graph:"
            ]
        },
        {
            "cell_type": "code",
            "execution_count": null,
            "metadata": {},
            "outputs": [],
            "source": [
                "fig, axis = plt.subplots(2, 3, figsize = (15, 10))\n",
                "\n",
                "sns.boxplot(ax = axis[0, 0], data = abnb_data_factorised, y = \"price\")\n",
                "sns.boxplot(ax = axis[0, 1], data = abnb_data_factorised, y = \"minimum_nights\")\n",
                "sns.boxplot(ax = axis[0, 2], data = abnb_data_factorised, y = \"number_of_reviews\")\n",
                "sns.boxplot(ax = axis[1, 0], data = abnb_data_factorised, y = \"calculated_host_listings_count\")\n",
                "sns.boxplot(ax = axis[1, 1], data = abnb_data_factorised, y = \"availability_365\")\n",
                "fig.delaxes(ax = axis[1,2])\n",
                "\n",
                "plt.tight_layout()\n",
                "\n",
                "plt.show()"
            ]
        },
        {
            "cell_type": "markdown",
            "metadata": {},
            "source": [
                "Deductions\n",
                "\n",
                "Get limits for outliers:"
            ]
        },
        {
            "cell_type": "code",
            "execution_count": null,
            "metadata": {},
            "outputs": [],
            "source": [
                "# For price\n",
                "price_stats = abnb_data_factorised[\"price\"].describe()\n",
                "\n",
                "price_iqr = price_stats[\"75%\"] - price_stats[\"25%\"]\n",
                "upper_limit = price_stats[\"75%\"] + 1.5 * price_iqr\n",
                "lower_limit = price_stats[\"25%\"] - 1.5 * price_iqr\n",
                "\n",
                "print(f\"The upper and lower limits for finding outliers are {round(upper_limit, 2)} and {round(lower_limit, 2)}, with an interquartile range of {round(price_iqr, 2)}\")"
            ]
        },
        {
            "cell_type": "markdown",
            "metadata": {},
            "source": [
                "Let's see how many values are above the upper limit."
            ]
        },
        {
            "cell_type": "code",
            "execution_count": null,
            "metadata": {},
            "outputs": [],
            "source": [
                "print(abnb_data_factorised[abnb_data_factorised[\"price\"] > 334].shape)\n",
                "abnb_data_factorised[abnb_data_factorised[\"price\"] > 334][abnb_data_factorised[\"price\"] < 1000].shape"
            ]
        },
        {
            "cell_type": "markdown",
            "metadata": {},
            "source": [
                "Deductions\n",
                "\n",
                "Remove outliers"
            ]
        },
        {
            "cell_type": "code",
            "execution_count": null,
            "metadata": {},
            "outputs": [],
            "source": [
                "abnb_data_factorised = abnb_data_factorised[abnb_data_factorised[\"price\"] < 1000]\n",
                "abnb_data_factorised.describe()"
            ]
        },
        {
            "cell_type": "markdown",
            "metadata": {},
            "source": [
                "#### 5.4 Inference of new features\n",
                "\n",
                "Let's look again at our dataset to see if we can infer any new features."
            ]
        },
        {
            "cell_type": "code",
            "execution_count": null,
            "metadata": {},
            "outputs": [],
            "source": [
                "print(abnb_data_factorised.info())\n",
                "abnb_data_factorised.head()"
            ]
        },
        {
            "cell_type": "markdown",
            "metadata": {},
            "source": [
                "Deductions\n",
                "\n",
                "#### 5.5 Feature scaling\n",
                "Let's scale our features now"
            ]
        },
        {
            "cell_type": "code",
            "execution_count": null,
            "metadata": {},
            "outputs": [],
            "source": [
                "from sklearn.preprocessing import MinMaxScaler\n",
                "\n",
                "num_variables = list(abnb_data_factorised.columns)\n",
                "num_variables.remove('price')\n",
                "\n",
                "scaler = MinMaxScaler()\n",
                "norm_features = scaler.fit_transform(abnb_data_factorised[num_variables])\n",
                "total_data_norm = pd.DataFrame(norm_features, index = abnb_data_factorised.index, columns = num_variables)\n",
                "total_data_norm[\"price\"] = abnb_data_factorised[\"price\"]\n",
                "total_data_norm.head()"
            ]
        },
        {
            "cell_type": "markdown",
            "metadata": {},
            "source": [
                "### 6. Feature Selection\n",
                "Now that we've scaled the dataset, we can select the most relevant features."
            ]
        },
        {
            "cell_type": "code",
            "execution_count": null,
            "metadata": {},
            "outputs": [],
            "source": [
                "from sklearn.feature_selection import chi2, SelectKBest\n",
                "from sklearn.model_selection import train_test_split\n",
                "\n",
                "# We divide the dataset into training and test samples.\n",
                "X = total_data_norm.drop(\"price\", axis = 1)\n",
                "y = total_data_norm[\"price\"]\n",
                "\n",
                "X_train, X_test, y_train, y_test = train_test_split(X, y, test_size = 0.2, random_state = 42)\n",
                "\n",
                "selection_model = SelectKBest(chi2, k = 4)\n",
                "selection_model.fit(X_train, y_train)\n",
                "ix = selection_model.get_support()\n",
                "X_train_sel = pd.DataFrame(selection_model.transform(X_train), columns = X_train.columns.values[ix])\n",
                "X_test_sel = pd.DataFrame(selection_model.transform(X_test), columns = X_test.columns.values[ix])\n",
                "\n",
                "X_train_sel.head()"
            ]
        }
    ],
    "metadata": {
        "kernelspec": {
            "display_name": "Python 3.8.13 64-bit ('3.8.13')",
            "language": "python",
            "name": "python3"
        },
        "language_info": {
            "codemirror_mode": {
                "name": "ipython",
                "version": 3
            },
            "file_extension": ".py",
            "mimetype": "text/x-python",
            "name": "python",
            "nbconvert_exporter": "python",
            "pygments_lexer": "ipython3",
            "version": "3.11.5"
        },
        "orig_nbformat": 4,
        "vscode": {
            "interpreter": {
                "hash": "110cc1dee26208153f2972f08a2ad52b6a56238dc66d48e87fb757ef2996db56"
            }
        }
    },
    "nbformat": 4,
    "nbformat_minor": 2
}
